{
 "cells": [
  {
   "cell_type": "markdown",
   "metadata": {},
   "source": [
    "# An introduction to seaborn\n",
    "https://seaborn.pydata.org/introduction.html"
   ]
  },
  {
   "cell_type": "markdown",
   "metadata": {
    "collapsed": true
   },
   "source": [
    "Seaborn is a library for making attractive and informative statistical graphics in Python. It is built on top of matplotlib and tightly integrated with the PyData stack, including support for numpy and pandas data structures and statistical routines from scipy and statsmodels.\n",
    "\n",
    "Some of the features that seaborn offers are\n",
    "\n",
    "- Several built-in themes for styling matplotlib graphics\n",
    "- Tools for choosing color palettes to make beautiful plots that reveal patterns in your data\n",
    "- Functions for visualizing univariate and bivariate distributions or for comparing them between subsets of data\n",
    "- Tools that fit and visualize linear regression models for different kinds of independent and dependent variables\n",
    "- Functions that visualize matrices of data and use clustering algorithms to discover structure in those matrices\n",
    "- A function to plot statistical timeseries data with flexible estimation and representation of uncertainty around the estimate\n",
    "- High-level abstractions for structuring grids of plots that let you easily build complex visualizations\n",
    "\n",
    "\n",
    "Seaborn aims to make visualization a central part of exploring and understanding data. The plotting functions operate on dataframes and arrays containing a whole dataset and internally perform the necessary aggregation and statistical model-fitting to produce informative plots. If matplotlib “tries to make easy things easy and hard things possible”, seaborn tries to make a well-defined set of hard things easy too.\n",
    "\n",
    "The plotting functions try to do something useful when called with a minimal set of arguments, and they expose a number of customizable options through additional parameters. Some of the functions plot directly into a matplotlib axes object, while others operate on an entire figure and produce plots with several panels. In the latter case, the plot is drawn using a Grid object that links the structure of the figure to the structure of the dataset.\n",
    "\n",
    "Seaborn should be thought of as a complement to matplotlib, not a replacement for it. When using seaborn, it is likely that you will often invoke matplotlib functions directly to draw simpler plots already available through the pyplot namespace. Further, the seaborn functions aim to make plots that are reasonably “production ready” (including extracting semantic information from Pandas objects to add informative labels), but full customization will require changing attributes on the matplotlib objects directly. The combination of seaborn’s high-level interface and matplotlib’s customizability and wide range of backends makes it easy to generate publication-quality figures.\n",
    "\n",
    "The documentation is divided into three separate domains. The breadth of functionality offered by the package is demonstrated in a set of short scripts and rendered in the example gallery. Some motivation behind the kind of plots that seaborn can help to make is explained in the tutorial. Authoritative documentation on the options afforded by each function and class can be found by consulting the API reference."
   ]
  },
  {
   "cell_type": "code",
   "execution_count": null,
   "metadata": {},
   "outputs": [],
   "source": []
  }
 ],
 "metadata": {
  "kernelspec": {
   "display_name": "Python 3",
   "language": "python",
   "name": "python3"
  },
  "language_info": {
   "codemirror_mode": {
    "name": "ipython",
    "version": 3
   },
   "file_extension": ".py",
   "mimetype": "text/x-python",
   "name": "python",
   "nbconvert_exporter": "python",
   "pygments_lexer": "ipython3",
   "version": "3.6.4"
  }
 },
 "nbformat": 4,
 "nbformat_minor": 2
}
